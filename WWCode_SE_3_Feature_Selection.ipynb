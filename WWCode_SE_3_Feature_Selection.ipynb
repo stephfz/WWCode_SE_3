{
 "cells": [
  {
   "cell_type": "markdown",
   "metadata": {},
   "source": [
    "\n",
    "## Sesión de Estudio Nª3 WWCode Santiago "
   ]
  },
  {
   "cell_type": "markdown",
   "metadata": {},
   "source": [
    "## 1. Contenidos 📘\n",
    "\n",
    "El objetivo de esta sesión es que te familiaces con los siguientes conceptos:\n",
    "\n",
    "- Machine Learning\n",
    "- Feature Selection\n",
    "- Accuracy\n",
    "- Overfitting\n",
    "- Matrix de correlación\n",
    "\n",
    "## 2. Forma de trabajo 🙊\n",
    "\n",
    "En esta oportunidad tú serás tu propia speaker, a través de este notebook se te plantearán una serie de ejercicios y pregunta que deberás ir resolviendo. No te preocupes si no alcanzas a terminarlo, es muy probable que hayan más ejercicios de los posibles a hacer durante la jornada. Si tienes dudas o consultas no dudes en preguntar a la monitora de la sesión o a tus propias compañeras, esta instancia está hecha para que entre todas aprendamos algo nuevo\n",
    "\n",
    "\n",
    "## 3. Introducción al tema 🤖\n",
    "\n",
    "### Feature selection\n",
    "Es el proceso que permite selecionar de manera más eficiente aquellos atributos del dataset que efectivamente son necesarios para el modelo y descartar aquellos que solo agregan ruido. Entre las ventajas de aplicar feature selection se encuentra:\n",
    "\n",
    "- Reducción de Overfitting\n",
    "- Mejoras en la precisión\n",
    "- Reducción del tiempo de entrenamiento\n",
    "\n",
    "\n",
    "Revisamos 6 técnicas diferentes para feature selection, para ello utilizaremos el dataset reducido del desafío **[Home Credit Default Risk](https://www.kaggle.com/c/home-credit-default-risk/data)** de Kaggle disponible en el repo. Sin embargo, si quieres usar el dataset original te invito a revisar las intrucciones para habilitar la API de Kaggle en tu equipo\n",
    "\n",
    "> https://github.com/Kaggle/kaggle-api\n",
    "\n",
    "## 4.Manos al a obra 💪🏻\n",
    "\n",
    "A continuación Encontrarás celdas de código con instrucciones que debes seguir. De ahora en adelante el desarrollo es 100% tu creatividad, apoyáte de textos y gráficos cuando estimes conveniente. Las preguntas que salen son una guía de lo que debes hacer, pero puedes agregar todo lo que estimes conveniente. Recuerda que tus análisis no siempre los revisan personas expertas y todos debens ser capaces de seguir tu lógica.\n",
    "\n",
    "\n",
    "**_Mucho éxito 🙌 !!_**\n"
   ]
  },
  {
   "cell_type": "markdown",
   "metadata": {},
   "source": [
    "### 1. Carga de datos"
   ]
  },
  {
   "cell_type": "code",
   "execution_count": 1,
   "metadata": {},
   "outputs": [],
   "source": [
    "#importa las librerías necesarias para tu trabajo\n",
    "import pandas as pd"
   ]
  },
  {
   "cell_type": "code",
   "execution_count": 65,
   "metadata": {},
   "outputs": [
    {
     "data": {
      "text/html": [
       "<div>\n",
       "<style scoped>\n",
       "    .dataframe tbody tr th:only-of-type {\n",
       "        vertical-align: middle;\n",
       "    }\n",
       "\n",
       "    .dataframe tbody tr th {\n",
       "        vertical-align: top;\n",
       "    }\n",
       "\n",
       "    .dataframe thead th {\n",
       "        text-align: right;\n",
       "    }\n",
       "</style>\n",
       "<table border=\"1\" class=\"dataframe\">\n",
       "  <thead>\n",
       "    <tr style=\"text-align: right;\">\n",
       "      <th></th>\n",
       "      <th>Unnamed: 0</th>\n",
       "      <th>Unnamed: 0.1</th>\n",
       "      <th>SK_ID_CURR</th>\n",
       "      <th>TARGET</th>\n",
       "      <th>NAME_CONTRACT_TYPE</th>\n",
       "      <th>CODE_GENDER</th>\n",
       "      <th>FLAG_OWN_CAR</th>\n",
       "      <th>FLAG_OWN_REALTY</th>\n",
       "      <th>CNT_CHILDREN</th>\n",
       "      <th>AMT_INCOME_TOTAL</th>\n",
       "      <th>...</th>\n",
       "      <th>FLAG_DOCUMENT_18</th>\n",
       "      <th>FLAG_DOCUMENT_19</th>\n",
       "      <th>FLAG_DOCUMENT_20</th>\n",
       "      <th>FLAG_DOCUMENT_21</th>\n",
       "      <th>AMT_REQ_CREDIT_BUREAU_HOUR</th>\n",
       "      <th>AMT_REQ_CREDIT_BUREAU_DAY</th>\n",
       "      <th>AMT_REQ_CREDIT_BUREAU_WEEK</th>\n",
       "      <th>AMT_REQ_CREDIT_BUREAU_MON</th>\n",
       "      <th>AMT_REQ_CREDIT_BUREAU_QRT</th>\n",
       "      <th>AMT_REQ_CREDIT_BUREAU_YEAR</th>\n",
       "    </tr>\n",
       "  </thead>\n",
       "  <tbody>\n",
       "    <tr>\n",
       "      <th>0</th>\n",
       "      <td>0</td>\n",
       "      <td>0</td>\n",
       "      <td>100002</td>\n",
       "      <td>1</td>\n",
       "      <td>Cash loans</td>\n",
       "      <td>M</td>\n",
       "      <td>N</td>\n",
       "      <td>Y</td>\n",
       "      <td>0</td>\n",
       "      <td>202500.0</td>\n",
       "      <td>...</td>\n",
       "      <td>0</td>\n",
       "      <td>0</td>\n",
       "      <td>0</td>\n",
       "      <td>0</td>\n",
       "      <td>0.0</td>\n",
       "      <td>0.0</td>\n",
       "      <td>0.0</td>\n",
       "      <td>0.0</td>\n",
       "      <td>0.0</td>\n",
       "      <td>1.0</td>\n",
       "    </tr>\n",
       "    <tr>\n",
       "      <th>1</th>\n",
       "      <td>1</td>\n",
       "      <td>1</td>\n",
       "      <td>100003</td>\n",
       "      <td>0</td>\n",
       "      <td>Cash loans</td>\n",
       "      <td>F</td>\n",
       "      <td>N</td>\n",
       "      <td>N</td>\n",
       "      <td>0</td>\n",
       "      <td>270000.0</td>\n",
       "      <td>...</td>\n",
       "      <td>0</td>\n",
       "      <td>0</td>\n",
       "      <td>0</td>\n",
       "      <td>0</td>\n",
       "      <td>0.0</td>\n",
       "      <td>0.0</td>\n",
       "      <td>0.0</td>\n",
       "      <td>0.0</td>\n",
       "      <td>0.0</td>\n",
       "      <td>0.0</td>\n",
       "    </tr>\n",
       "    <tr>\n",
       "      <th>2</th>\n",
       "      <td>2</td>\n",
       "      <td>2</td>\n",
       "      <td>100004</td>\n",
       "      <td>0</td>\n",
       "      <td>Revolving loans</td>\n",
       "      <td>M</td>\n",
       "      <td>Y</td>\n",
       "      <td>Y</td>\n",
       "      <td>0</td>\n",
       "      <td>67500.0</td>\n",
       "      <td>...</td>\n",
       "      <td>0</td>\n",
       "      <td>0</td>\n",
       "      <td>0</td>\n",
       "      <td>0</td>\n",
       "      <td>0.0</td>\n",
       "      <td>0.0</td>\n",
       "      <td>0.0</td>\n",
       "      <td>0.0</td>\n",
       "      <td>0.0</td>\n",
       "      <td>0.0</td>\n",
       "    </tr>\n",
       "  </tbody>\n",
       "</table>\n",
       "<p>3 rows × 124 columns</p>\n",
       "</div>"
      ],
      "text/plain": [
       "   Unnamed: 0  Unnamed: 0.1  SK_ID_CURR  TARGET NAME_CONTRACT_TYPE  \\\n",
       "0           0             0      100002       1         Cash loans   \n",
       "1           1             1      100003       0         Cash loans   \n",
       "2           2             2      100004       0    Revolving loans   \n",
       "\n",
       "  CODE_GENDER FLAG_OWN_CAR FLAG_OWN_REALTY  CNT_CHILDREN  AMT_INCOME_TOTAL  \\\n",
       "0           M            N               Y             0          202500.0   \n",
       "1           F            N               N             0          270000.0   \n",
       "2           M            Y               Y             0           67500.0   \n",
       "\n",
       "   ...  FLAG_DOCUMENT_18  FLAG_DOCUMENT_19  FLAG_DOCUMENT_20 FLAG_DOCUMENT_21  \\\n",
       "0  ...                 0                 0                 0                0   \n",
       "1  ...                 0                 0                 0                0   \n",
       "2  ...                 0                 0                 0                0   \n",
       "\n",
       "  AMT_REQ_CREDIT_BUREAU_HOUR AMT_REQ_CREDIT_BUREAU_DAY  \\\n",
       "0                        0.0                       0.0   \n",
       "1                        0.0                       0.0   \n",
       "2                        0.0                       0.0   \n",
       "\n",
       "  AMT_REQ_CREDIT_BUREAU_WEEK AMT_REQ_CREDIT_BUREAU_MON  \\\n",
       "0                        0.0                       0.0   \n",
       "1                        0.0                       0.0   \n",
       "2                        0.0                       0.0   \n",
       "\n",
       "   AMT_REQ_CREDIT_BUREAU_QRT  AMT_REQ_CREDIT_BUREAU_YEAR  \n",
       "0                        0.0                         1.0  \n",
       "1                        0.0                         0.0  \n",
       "2                        0.0                         0.0  \n",
       "\n",
       "[3 rows x 124 columns]"
      ]
     },
     "execution_count": 65,
     "metadata": {},
     "output_type": "execute_result"
    }
   ],
   "source": [
    "#input de datos.\n",
    "#crea una variable llamada datos que lea el archivo application_train_lite.csv\n",
    "data = pd.read_csv('application_train_lite.csv')\n",
    "data.head(3)"
   ]
  },
  {
   "cell_type": "markdown",
   "metadata": {},
   "source": [
    "### 2. Revisión del dataset"
   ]
  },
  {
   "cell_type": "markdown",
   "metadata": {},
   "source": [
    "#### 2.1 Descripción general"
   ]
  },
  {
   "cell_type": "code",
   "execution_count": 6,
   "metadata": {},
   "outputs": [
    {
     "data": {
      "text/plain": [
       "Unnamed: 0                      int64\n",
       "Unnamed: 0.1                    int64\n",
       "SK_ID_CURR                      int64\n",
       "TARGET                          int64\n",
       "NAME_CONTRACT_TYPE             object\n",
       "CODE_GENDER                    object\n",
       "FLAG_OWN_CAR                   object\n",
       "FLAG_OWN_REALTY                object\n",
       "CNT_CHILDREN                    int64\n",
       "AMT_INCOME_TOTAL              float64\n",
       "AMT_CREDIT                    float64\n",
       "AMT_ANNUITY                   float64\n",
       "AMT_GOODS_PRICE               float64\n",
       "NAME_TYPE_SUITE                object\n",
       "NAME_INCOME_TYPE               object\n",
       "NAME_EDUCATION_TYPE            object\n",
       "NAME_FAMILY_STATUS             object\n",
       "NAME_HOUSING_TYPE              object\n",
       "REGION_POPULATION_RELATIVE    float64\n",
       "DAYS_BIRTH                      int64\n",
       "DAYS_EMPLOYED                   int64\n",
       "DAYS_REGISTRATION             float64\n",
       "DAYS_ID_PUBLISH                 int64\n",
       "OWN_CAR_AGE                   float64\n",
       "FLAG_MOBIL                      int64\n",
       "FLAG_EMP_PHONE                  int64\n",
       "FLAG_WORK_PHONE                 int64\n",
       "FLAG_CONT_MOBILE                int64\n",
       "FLAG_PHONE                      int64\n",
       "FLAG_EMAIL                      int64\n",
       "                               ...   \n",
       "DEF_30_CNT_SOCIAL_CIRCLE      float64\n",
       "OBS_60_CNT_SOCIAL_CIRCLE      float64\n",
       "DEF_60_CNT_SOCIAL_CIRCLE      float64\n",
       "DAYS_LAST_PHONE_CHANGE        float64\n",
       "FLAG_DOCUMENT_2                 int64\n",
       "FLAG_DOCUMENT_3                 int64\n",
       "FLAG_DOCUMENT_4                 int64\n",
       "FLAG_DOCUMENT_5                 int64\n",
       "FLAG_DOCUMENT_6                 int64\n",
       "FLAG_DOCUMENT_7                 int64\n",
       "FLAG_DOCUMENT_8                 int64\n",
       "FLAG_DOCUMENT_9                 int64\n",
       "FLAG_DOCUMENT_10                int64\n",
       "FLAG_DOCUMENT_11                int64\n",
       "FLAG_DOCUMENT_12                int64\n",
       "FLAG_DOCUMENT_13                int64\n",
       "FLAG_DOCUMENT_14                int64\n",
       "FLAG_DOCUMENT_15                int64\n",
       "FLAG_DOCUMENT_16                int64\n",
       "FLAG_DOCUMENT_17                int64\n",
       "FLAG_DOCUMENT_18                int64\n",
       "FLAG_DOCUMENT_19                int64\n",
       "FLAG_DOCUMENT_20                int64\n",
       "FLAG_DOCUMENT_21                int64\n",
       "AMT_REQ_CREDIT_BUREAU_HOUR    float64\n",
       "AMT_REQ_CREDIT_BUREAU_DAY     float64\n",
       "AMT_REQ_CREDIT_BUREAU_WEEK    float64\n",
       "AMT_REQ_CREDIT_BUREAU_MON     float64\n",
       "AMT_REQ_CREDIT_BUREAU_QRT     float64\n",
       "AMT_REQ_CREDIT_BUREAU_YEAR    float64\n",
       "Length: 124, dtype: object"
      ]
     },
     "execution_count": 6,
     "metadata": {},
     "output_type": "execute_result"
    }
   ],
   "source": [
    "#Acá debes responder a las preguntas tipo:\n",
    "#Cuantás columnas tiene el dataset?Cuántas filas?\n",
    "#Cual es la variable objetivo? Spoiler:target.\n",
    "#Esta variables es categórica?Es data desbalanceada?\n",
    "#La variable es numérica?, tiene patrones de comportamiento?, es muy dispersa?\n",
    "data.shape\n",
    "data.dtypes"
   ]
  },
  {
   "cell_type": "code",
   "execution_count": 18,
   "metadata": {},
   "outputs": [
    {
     "data": {
      "text/plain": [
       "(153756, 124)"
      ]
     },
     "execution_count": 18,
     "metadata": {},
     "output_type": "execute_result"
    }
   ],
   "source": [
    "data.shape"
   ]
  },
  {
   "cell_type": "code",
   "execution_count": 34,
   "metadata": {},
   "outputs": [
    {
     "data": {
      "text/html": [
       "<div>\n",
       "<style scoped>\n",
       "    .dataframe tbody tr th:only-of-type {\n",
       "        vertical-align: middle;\n",
       "    }\n",
       "\n",
       "    .dataframe tbody tr th {\n",
       "        vertical-align: top;\n",
       "    }\n",
       "\n",
       "    .dataframe thead th {\n",
       "        text-align: right;\n",
       "    }\n",
       "</style>\n",
       "<table border=\"1\" class=\"dataframe\">\n",
       "  <thead>\n",
       "    <tr style=\"text-align: right;\">\n",
       "      <th></th>\n",
       "      <th>Unnamed: 0</th>\n",
       "      <th>Unnamed: 0.1</th>\n",
       "      <th>SK_ID_CURR</th>\n",
       "      <th>TARGET</th>\n",
       "      <th>NAME_CONTRACT_TYPE</th>\n",
       "      <th>CODE_GENDER</th>\n",
       "      <th>FLAG_OWN_CAR</th>\n",
       "      <th>FLAG_OWN_REALTY</th>\n",
       "      <th>CNT_CHILDREN</th>\n",
       "      <th>AMT_INCOME_TOTAL</th>\n",
       "      <th>...</th>\n",
       "      <th>FLAG_DOCUMENT_18</th>\n",
       "      <th>FLAG_DOCUMENT_19</th>\n",
       "      <th>FLAG_DOCUMENT_20</th>\n",
       "      <th>FLAG_DOCUMENT_21</th>\n",
       "      <th>AMT_REQ_CREDIT_BUREAU_HOUR</th>\n",
       "      <th>AMT_REQ_CREDIT_BUREAU_DAY</th>\n",
       "      <th>AMT_REQ_CREDIT_BUREAU_WEEK</th>\n",
       "      <th>AMT_REQ_CREDIT_BUREAU_MON</th>\n",
       "      <th>AMT_REQ_CREDIT_BUREAU_QRT</th>\n",
       "      <th>AMT_REQ_CREDIT_BUREAU_YEAR</th>\n",
       "    </tr>\n",
       "  </thead>\n",
       "  <tbody>\n",
       "    <tr>\n",
       "      <th>0</th>\n",
       "      <td>0</td>\n",
       "      <td>0</td>\n",
       "      <td>100002</td>\n",
       "      <td>1</td>\n",
       "      <td>Cash loans</td>\n",
       "      <td>M</td>\n",
       "      <td>N</td>\n",
       "      <td>Y</td>\n",
       "      <td>0</td>\n",
       "      <td>202500.0</td>\n",
       "      <td>...</td>\n",
       "      <td>0</td>\n",
       "      <td>0</td>\n",
       "      <td>0</td>\n",
       "      <td>0</td>\n",
       "      <td>0.0</td>\n",
       "      <td>0.0</td>\n",
       "      <td>0.0</td>\n",
       "      <td>0.0</td>\n",
       "      <td>0.0</td>\n",
       "      <td>1.0</td>\n",
       "    </tr>\n",
       "    <tr>\n",
       "      <th>1</th>\n",
       "      <td>1</td>\n",
       "      <td>1</td>\n",
       "      <td>100003</td>\n",
       "      <td>0</td>\n",
       "      <td>Cash loans</td>\n",
       "      <td>F</td>\n",
       "      <td>N</td>\n",
       "      <td>N</td>\n",
       "      <td>0</td>\n",
       "      <td>270000.0</td>\n",
       "      <td>...</td>\n",
       "      <td>0</td>\n",
       "      <td>0</td>\n",
       "      <td>0</td>\n",
       "      <td>0</td>\n",
       "      <td>0.0</td>\n",
       "      <td>0.0</td>\n",
       "      <td>0.0</td>\n",
       "      <td>0.0</td>\n",
       "      <td>0.0</td>\n",
       "      <td>0.0</td>\n",
       "    </tr>\n",
       "    <tr>\n",
       "      <th>2</th>\n",
       "      <td>2</td>\n",
       "      <td>2</td>\n",
       "      <td>100004</td>\n",
       "      <td>0</td>\n",
       "      <td>Revolving loans</td>\n",
       "      <td>M</td>\n",
       "      <td>Y</td>\n",
       "      <td>Y</td>\n",
       "      <td>0</td>\n",
       "      <td>67500.0</td>\n",
       "      <td>...</td>\n",
       "      <td>0</td>\n",
       "      <td>0</td>\n",
       "      <td>0</td>\n",
       "      <td>0</td>\n",
       "      <td>0.0</td>\n",
       "      <td>0.0</td>\n",
       "      <td>0.0</td>\n",
       "      <td>0.0</td>\n",
       "      <td>0.0</td>\n",
       "      <td>0.0</td>\n",
       "    </tr>\n",
       "    <tr>\n",
       "      <th>3</th>\n",
       "      <td>3</td>\n",
       "      <td>3</td>\n",
       "      <td>100006</td>\n",
       "      <td>0</td>\n",
       "      <td>Cash loans</td>\n",
       "      <td>F</td>\n",
       "      <td>N</td>\n",
       "      <td>Y</td>\n",
       "      <td>0</td>\n",
       "      <td>135000.0</td>\n",
       "      <td>...</td>\n",
       "      <td>0</td>\n",
       "      <td>0</td>\n",
       "      <td>0</td>\n",
       "      <td>0</td>\n",
       "      <td>NaN</td>\n",
       "      <td>NaN</td>\n",
       "      <td>NaN</td>\n",
       "      <td>NaN</td>\n",
       "      <td>NaN</td>\n",
       "      <td>NaN</td>\n",
       "    </tr>\n",
       "    <tr>\n",
       "      <th>4</th>\n",
       "      <td>4</td>\n",
       "      <td>4</td>\n",
       "      <td>100007</td>\n",
       "      <td>0</td>\n",
       "      <td>Cash loans</td>\n",
       "      <td>M</td>\n",
       "      <td>N</td>\n",
       "      <td>Y</td>\n",
       "      <td>0</td>\n",
       "      <td>121500.0</td>\n",
       "      <td>...</td>\n",
       "      <td>0</td>\n",
       "      <td>0</td>\n",
       "      <td>0</td>\n",
       "      <td>0</td>\n",
       "      <td>0.0</td>\n",
       "      <td>0.0</td>\n",
       "      <td>0.0</td>\n",
       "      <td>0.0</td>\n",
       "      <td>0.0</td>\n",
       "      <td>0.0</td>\n",
       "    </tr>\n",
       "  </tbody>\n",
       "</table>\n",
       "<p>5 rows × 124 columns</p>\n",
       "</div>"
      ],
      "text/plain": [
       "   Unnamed: 0  Unnamed: 0.1  SK_ID_CURR  TARGET NAME_CONTRACT_TYPE  \\\n",
       "0           0             0      100002       1         Cash loans   \n",
       "1           1             1      100003       0         Cash loans   \n",
       "2           2             2      100004       0    Revolving loans   \n",
       "3           3             3      100006       0         Cash loans   \n",
       "4           4             4      100007       0         Cash loans   \n",
       "\n",
       "  CODE_GENDER FLAG_OWN_CAR FLAG_OWN_REALTY  CNT_CHILDREN  AMT_INCOME_TOTAL  \\\n",
       "0           M            N               Y             0          202500.0   \n",
       "1           F            N               N             0          270000.0   \n",
       "2           M            Y               Y             0           67500.0   \n",
       "3           F            N               Y             0          135000.0   \n",
       "4           M            N               Y             0          121500.0   \n",
       "\n",
       "   ...  FLAG_DOCUMENT_18  FLAG_DOCUMENT_19  FLAG_DOCUMENT_20 FLAG_DOCUMENT_21  \\\n",
       "0  ...                 0                 0                 0                0   \n",
       "1  ...                 0                 0                 0                0   \n",
       "2  ...                 0                 0                 0                0   \n",
       "3  ...                 0                 0                 0                0   \n",
       "4  ...                 0                 0                 0                0   \n",
       "\n",
       "  AMT_REQ_CREDIT_BUREAU_HOUR AMT_REQ_CREDIT_BUREAU_DAY  \\\n",
       "0                        0.0                       0.0   \n",
       "1                        0.0                       0.0   \n",
       "2                        0.0                       0.0   \n",
       "3                        NaN                       NaN   \n",
       "4                        0.0                       0.0   \n",
       "\n",
       "  AMT_REQ_CREDIT_BUREAU_WEEK AMT_REQ_CREDIT_BUREAU_MON  \\\n",
       "0                        0.0                       0.0   \n",
       "1                        0.0                       0.0   \n",
       "2                        0.0                       0.0   \n",
       "3                        NaN                       NaN   \n",
       "4                        0.0                       0.0   \n",
       "\n",
       "   AMT_REQ_CREDIT_BUREAU_QRT  AMT_REQ_CREDIT_BUREAU_YEAR  \n",
       "0                        0.0                         1.0  \n",
       "1                        0.0                         0.0  \n",
       "2                        0.0                         0.0  \n",
       "3                        NaN                         NaN  \n",
       "4                        0.0                         0.0  \n",
       "\n",
       "[5 rows x 124 columns]"
      ]
     },
     "execution_count": 34,
     "metadata": {},
     "output_type": "execute_result"
    }
   ],
   "source": [
    "data.head(5)"
   ]
  },
  {
   "cell_type": "code",
   "execution_count": 10,
   "metadata": {},
   "outputs": [
    {
     "data": {
      "text/plain": [
       "Unnamed: 0                         0\n",
       "Unnamed: 0.1                       0\n",
       "SK_ID_CURR                         0\n",
       "TARGET                             0\n",
       "NAME_CONTRACT_TYPE                 0\n",
       "CODE_GENDER                        0\n",
       "FLAG_OWN_CAR                       0\n",
       "FLAG_OWN_REALTY                    0\n",
       "CNT_CHILDREN                       0\n",
       "AMT_INCOME_TOTAL                   0\n",
       "AMT_CREDIT                         0\n",
       "AMT_ANNUITY                        8\n",
       "AMT_GOODS_PRICE                  129\n",
       "NAME_TYPE_SUITE                  628\n",
       "NAME_INCOME_TYPE                   0\n",
       "NAME_EDUCATION_TYPE                0\n",
       "NAME_FAMILY_STATUS                 0\n",
       "NAME_HOUSING_TYPE                  0\n",
       "REGION_POPULATION_RELATIVE         0\n",
       "DAYS_BIRTH                         0\n",
       "DAYS_EMPLOYED                      0\n",
       "DAYS_REGISTRATION                  0\n",
       "DAYS_ID_PUBLISH                    0\n",
       "OWN_CAR_AGE                   101531\n",
       "FLAG_MOBIL                         0\n",
       "FLAG_EMP_PHONE                     0\n",
       "FLAG_WORK_PHONE                    0\n",
       "FLAG_CONT_MOBILE                   0\n",
       "FLAG_PHONE                         0\n",
       "FLAG_EMAIL                         0\n",
       "                               ...  \n",
       "DEF_30_CNT_SOCIAL_CIRCLE         513\n",
       "OBS_60_CNT_SOCIAL_CIRCLE         513\n",
       "DEF_60_CNT_SOCIAL_CIRCLE         513\n",
       "DAYS_LAST_PHONE_CHANGE             1\n",
       "FLAG_DOCUMENT_2                    0\n",
       "FLAG_DOCUMENT_3                    0\n",
       "FLAG_DOCUMENT_4                    0\n",
       "FLAG_DOCUMENT_5                    0\n",
       "FLAG_DOCUMENT_6                    0\n",
       "FLAG_DOCUMENT_7                    0\n",
       "FLAG_DOCUMENT_8                    0\n",
       "FLAG_DOCUMENT_9                    0\n",
       "FLAG_DOCUMENT_10                   0\n",
       "FLAG_DOCUMENT_11                   0\n",
       "FLAG_DOCUMENT_12                   0\n",
       "FLAG_DOCUMENT_13                   0\n",
       "FLAG_DOCUMENT_14                   0\n",
       "FLAG_DOCUMENT_15                   0\n",
       "FLAG_DOCUMENT_16                   0\n",
       "FLAG_DOCUMENT_17                   0\n",
       "FLAG_DOCUMENT_18                   0\n",
       "FLAG_DOCUMENT_19                   0\n",
       "FLAG_DOCUMENT_20                   0\n",
       "FLAG_DOCUMENT_21                   0\n",
       "AMT_REQ_CREDIT_BUREAU_HOUR     20624\n",
       "AMT_REQ_CREDIT_BUREAU_DAY      20624\n",
       "AMT_REQ_CREDIT_BUREAU_WEEK     20624\n",
       "AMT_REQ_CREDIT_BUREAU_MON      20624\n",
       "AMT_REQ_CREDIT_BUREAU_QRT      20624\n",
       "AMT_REQ_CREDIT_BUREAU_YEAR     20624\n",
       "Length: 124, dtype: int64"
      ]
     },
     "execution_count": 10,
     "metadata": {},
     "output_type": "execute_result"
    }
   ],
   "source": [
    "data.isnull().sum()"
   ]
  },
  {
   "cell_type": "code",
   "execution_count": 11,
   "metadata": {},
   "outputs": [
    {
     "data": {
      "text/plain": [
       "Unnamed: 0                    153756\n",
       "Unnamed: 0.1                  153756\n",
       "SK_ID_CURR                    153756\n",
       "TARGET                             2\n",
       "NAME_CONTRACT_TYPE                 2\n",
       "CODE_GENDER                        3\n",
       "FLAG_OWN_CAR                       2\n",
       "FLAG_OWN_REALTY                    2\n",
       "CNT_CHILDREN                      13\n",
       "AMT_INCOME_TOTAL                1613\n",
       "AMT_CREDIT                      4689\n",
       "AMT_ANNUITY                    11957\n",
       "AMT_GOODS_PRICE                  736\n",
       "NAME_TYPE_SUITE                    7\n",
       "NAME_INCOME_TYPE                   8\n",
       "NAME_EDUCATION_TYPE                5\n",
       "NAME_FAMILY_STATUS                 6\n",
       "NAME_HOUSING_TYPE                  6\n",
       "REGION_POPULATION_RELATIVE        80\n",
       "DAYS_BIRTH                     17260\n",
       "DAYS_EMPLOYED                  10925\n",
       "DAYS_REGISTRATION              14792\n",
       "DAYS_ID_PUBLISH                 6051\n",
       "OWN_CAR_AGE                       57\n",
       "FLAG_MOBIL                         2\n",
       "FLAG_EMP_PHONE                     2\n",
       "FLAG_WORK_PHONE                    2\n",
       "FLAG_CONT_MOBILE                   2\n",
       "FLAG_PHONE                         2\n",
       "FLAG_EMAIL                         2\n",
       "                               ...  \n",
       "DEF_30_CNT_SOCIAL_CIRCLE           9\n",
       "OBS_60_CNT_SOCIAL_CIRCLE          31\n",
       "DEF_60_CNT_SOCIAL_CIRCLE           8\n",
       "DAYS_LAST_PHONE_CHANGE          3639\n",
       "FLAG_DOCUMENT_2                    2\n",
       "FLAG_DOCUMENT_3                    2\n",
       "FLAG_DOCUMENT_4                    2\n",
       "FLAG_DOCUMENT_5                    2\n",
       "FLAG_DOCUMENT_6                    2\n",
       "FLAG_DOCUMENT_7                    2\n",
       "FLAG_DOCUMENT_8                    2\n",
       "FLAG_DOCUMENT_9                    2\n",
       "FLAG_DOCUMENT_10                   2\n",
       "FLAG_DOCUMENT_11                   2\n",
       "FLAG_DOCUMENT_12                   2\n",
       "FLAG_DOCUMENT_13                   2\n",
       "FLAG_DOCUMENT_14                   2\n",
       "FLAG_DOCUMENT_15                   2\n",
       "FLAG_DOCUMENT_16                   2\n",
       "FLAG_DOCUMENT_17                   2\n",
       "FLAG_DOCUMENT_18                   2\n",
       "FLAG_DOCUMENT_19                   2\n",
       "FLAG_DOCUMENT_20                   2\n",
       "FLAG_DOCUMENT_21                   2\n",
       "AMT_REQ_CREDIT_BUREAU_HOUR         4\n",
       "AMT_REQ_CREDIT_BUREAU_DAY          9\n",
       "AMT_REQ_CREDIT_BUREAU_WEEK         8\n",
       "AMT_REQ_CREDIT_BUREAU_MON         22\n",
       "AMT_REQ_CREDIT_BUREAU_QRT          9\n",
       "AMT_REQ_CREDIT_BUREAU_YEAR        24\n",
       "Length: 124, dtype: int64"
      ]
     },
     "execution_count": 11,
     "metadata": {},
     "output_type": "execute_result"
    }
   ],
   "source": [
    "data.nunique()"
   ]
  },
  {
   "cell_type": "markdown",
   "metadata": {},
   "source": [
    "#### 2.2 Tratamiento de missing"
   ]
  },
  {
   "cell_type": "code",
   "execution_count": 48,
   "metadata": {},
   "outputs": [],
   "source": [
    "#Análisis del dataset\n",
    "#Cuántas variables categoricas hay?Cuántas numéricas?\n",
    "#Cuál es el % de datos missing?\n",
    "#Genera imputación de missing. Apóyate de Imputer de SkLeark"
   ]
  },
  {
   "cell_type": "code",
   "execution_count": 49,
   "metadata": {},
   "outputs": [
    {
     "name": "stdout",
     "output_type": "stream",
     "text": [
      "<class 'pandas.core.frame.DataFrame'>\n",
      "RangeIndex: 153756 entries, 0 to 153755\n",
      "Columns: 122 entries, SK_ID_CURR to AMT_REQ_CREDIT_BUREAU_YEAR\n",
      "dtypes: float64(65), int64(41), object(16)\n",
      "memory usage: 143.1+ MB\n"
     ]
    }
   ],
   "source": [
    "data.info()"
   ]
  },
  {
   "cell_type": "code",
   "execution_count": 50,
   "metadata": {},
   "outputs": [],
   "source": [
    "var_numerica = []\n",
    "var_categorica = []\n",
    "\n",
    "for i in data.columns.tolist():\n",
    "    if data[i].dtype =='object':\n",
    "        var_categorica.append(i)\n",
    "    else:\n",
    "        var_numerica.append(i)"
   ]
  },
  {
   "cell_type": "code",
   "execution_count": 51,
   "metadata": {},
   "outputs": [
    {
     "name": "stdout",
     "output_type": "stream",
     "text": [
      "106\n",
      "16\n"
     ]
    }
   ],
   "source": [
    "print (len(var_numerica))\n",
    "print (len(var_categorica))"
   ]
  },
  {
   "cell_type": "code",
   "execution_count": 52,
   "metadata": {},
   "outputs": [],
   "source": [
    "data = data.dropna()"
   ]
  },
  {
   "cell_type": "code",
   "execution_count": 8,
   "metadata": {},
   "outputs": [],
   "source": [
    "#Análisis del dataset\n",
    "#Cuántas variables categoricas hay?Cuántas numéricas?\n",
    "#Cuál es el % de datos missing?\n",
    "#Genera imputación de missing. Apóyate de Imputer de SkLeark\n"
   ]
  },
  {
   "cell_type": "code",
   "execution_count": null,
   "metadata": {},
   "outputs": [],
   "source": [
    "#imputer de sklearn"
   ]
  },
  {
   "cell_type": "code",
   "execution_count": 35,
   "metadata": {},
   "outputs": [],
   "source": [
    "#borrar columnas auto-generadas\n",
    "del data['Unnamed: 0']\n",
    "del data['Unnamed: 0.1']"
   ]
  },
  {
   "cell_type": "code",
   "execution_count": 31,
   "metadata": {},
   "outputs": [],
   "source": [
    "col_names = data.columns.tolist()\n",
    "missing_per_att = {}\n",
    "for column in col_names:\n",
    "    nulls = data[column].isnull().sum()\n",
    "    if ( nulls > 0):\n",
    "        missing_per_att[column] = nulls\n",
    "        #print (\"<{0}>: {1}\".format(column, float(data[column].isnull().sum()/153756))  )"
   ]
  },
  {
   "cell_type": "code",
   "execution_count": 33,
   "metadata": {},
   "outputs": [
    {
     "data": {
      "text/plain": [
       "<matplotlib.axes._subplots.AxesSubplot at 0x1225080b8>"
      ]
     },
     "execution_count": 33,
     "metadata": {},
     "output_type": "execute_result"
    },
    {
     "data": {
      "image/png": "[encoded data removed]",
      "text/plain": [
       "<Figure size 432x288 with 1 Axes>"
      ]
     },
     "metadata": {
      "needs_background": "light"
     },
     "output_type": "display_data"
    }
   ],
   "source": [
    "import seaborn as sns\n",
    "import matplotlib.pyplot as plt\n",
    "sns.heatmap(data.isnull(), cbar=False)"
   ]
  },
  {
   "cell_type": "code",
   "execution_count": 38,
   "metadata": {},
   "outputs": [
    {
     "data": {
      "text/plain": [
       "<matplotlib.axes._subplots.AxesSubplot at 0x1226bc2b0>"
      ]
     },
     "execution_count": 38,
     "metadata": {},
     "output_type": "execute_result"
    },
    {
     "data": {
      "image/png": "[encoded data removed]",
      "text/plain": [
       "<Figure size 432x288 with 1 Axes>"
      ]
     },
     "metadata": {
      "needs_background": "light"
     },
     "output_type": "display_data"
    }
   ],
   "source": [
    "sns.boxplot(data=data, x = 'TARGET')\n",
    "#la variable es categorica"
   ]
  },
  {
   "cell_type": "code",
   "execution_count": 41,
   "metadata": {},
   "outputs": [
    {
     "data": {
      "text/plain": [
       "TARGET\n",
       "0    141215\n",
       "1     12541\n",
       "Name: SK_ID_CURR, dtype: int64"
      ]
     },
     "execution_count": 41,
     "metadata": {},
     "output_type": "execute_result"
    }
   ],
   "source": [
    "data.groupby('TARGET')['SK_ID_CURR'].count()"
   ]
  },
  {
   "cell_type": "code",
   "execution_count": 45,
   "metadata": {},
   "outputs": [
    {
     "data": {
      "text/plain": [
       "<matplotlib.axes._subplots.AxesSubplot at 0x1a55107748>"
      ]
     },
     "execution_count": 45,
     "metadata": {},
     "output_type": "execute_result"
    },
    {
     "data": {
      "image/png": "[encoded data removed]",
      "text/plain": [
       "<Figure size 432x288 with 1 Axes>"
      ]
     },
     "metadata": {
      "needs_background": "light"
     },
     "output_type": "display_data"
    }
   ],
   "source": [
    "sns.countplot(data=data, x='TARGET', palette ='Blues')"
   ]
  },
  {
   "cell_type": "markdown",
   "metadata": {},
   "source": [
    "### 3. Feature Selection"
   ]
  },
  {
   "cell_type": "markdown",
   "metadata": {},
   "source": [
    "#### 3.1 Ningún Criterio\n",
    "\n",
    "Para probar la efectividad de feature selection primero se entrenará un modelo con todos los campos y su accuracy se tomará como base. Al final de cada criterio de feature selection se volverá a entrenar el mismo modelo, con el fin de evaluar cambios en su performance"
   ]
  },
  {
   "cell_type": "code",
   "execution_count": 66,
   "metadata": {},
   "outputs": [],
   "source": [
    "#Entrena tu modelo favorito (evita usar el automodel). \n",
    "#Si no tienes ninguno en mente puedes usar un arbol de decisión simple.\n",
    "#Nota. si sientes que tienes buen manejo de código, podrías escribir un método\n",
    "#Donde entregues el dataset y retorne el accuracy.\n",
    "\n",
    "\n",
    "#vamos a entrenar un modelo de clasificacion pq la variable es categorica para predecir la variable TARGET\n",
    "from sklearn.tree import DecisionTreeClassifier\n",
    "from sklearn.model_selection import cross_val_score\n",
    "from sklearn import tree\n",
    "from sklearn.model_selection import train_test_split\n",
    "from sklearn import metrics\n",
    "\n",
    "feature_cols = []\n",
    "x = data.copy()\n",
    "y = data['TARGET']\n",
    "del x['TARGET']\n",
    "\n",
    "x_train, x_test, y_train, y_test = train_test_split(x, y, test_size=.3, random_state=42)"
   ]
  },
  {
   "cell_type": "code",
   "execution_count": 20,
   "metadata": {},
   "outputs": [],
   "source": [
    "#1.Elige 3 criterios de los anteriores, revisa en internet para escribir una breve\n",
    "#definición y realiza un primer feature selection.\n",
    "#2.Indica qué variables quedaron fuera y revisa cuánto cambia el accuracy de tu \n",
    "#modelo\n",
    "\n",
    "\n",
    "#Tip: Alabado sea SKlearn, con el nada te faltará"
   ]
  },
  {
   "cell_type": "markdown",
   "metadata": {},
   "source": [
    "#### 3.3 Wrapper-based Method\n",
    "Están basado en algoritmos de búsqueda que van evaluando todas las posibles combinaciones de variables y seleccionan aquella que produce el mejor resultado de predicción\n",
    "\n",
    "\n",
    "##### **3.2.1 Forward Search**\n",
    "Inicialmente considera la performance con cada una de las variables de manera separada.La que tenga mejor resultado será considerada como variable inicial y sobre esta se genera la combinatoria de búsqueda.\n",
    "\n",
    "\n",
    "##### **3.2.2 Backward Search**\n",
    "Este método comienza entrenando con todas las variables ingresadas y va eliminando en la medida que sube la performance\n",
    "\n",
    "##### **3.2.3 Recursive Feature Elimination**\n",
    "Similar a un modelo de optimización, busca encontrar el conjunto de variables que maximice el rendimiento del modelo. Para lograr dicho objetivo, crea modelos de forma iterativa, dejando de lado las variables con mejores y peores resultados (es decir, deja las que tienen un rendimiento equilibrado)\n"
   ]
  },
  {
   "cell_type": "code",
   "execution_count": 21,
   "metadata": {},
   "outputs": [],
   "source": [
    "#1.Elige 1 criterios de los anteriores y realiza un segundo feature selection.\n",
    "#2.Indica qué variables quedaron fuera y revisa cuánto cambia el accuracy de tu \n",
    "#modelo\n",
    "\n",
    "\n",
    "#Tip: Alabado sea SKlearn, con el nada te faltará"
   ]
  },
  {
   "cell_type": "markdown",
   "metadata": {},
   "source": [
    "#### 3.4 Embedded Method\n",
    "Son algoritmos que usan su propio criterio de selección de variables. Acá encontramos algunos clásicos como Lasso y Random Forest. En el caso de Lasso, este modelo generalmente fuerza a algunas variables a que tengan pesos equivalente a cero, dejando nulo el impacto de estas en la predicción. Por otro lado, el Random Forest una vez entrenado permite hacer un análisis de importancia. También se puede usar GBM.\n"
   ]
  },
  {
   "cell_type": "code",
   "execution_count": 22,
   "metadata": {},
   "outputs": [],
   "source": [
    "#1.Elige 1 criterios de los anteriores\n",
    "#2.Haz una pequeña búsqueda bibliográfica para definir con tus palabras en qué consiste\n",
    "#cada método. Si te sientes muy perdida pide referencias a la monitora.\n",
    "#3.Entrena el modelo seleccionado con la data pura\n",
    "#4.Entrena el modelo selccionado con alguna feature selection anterior.\n",
    "\n",
    "\n",
    "#Tip: Alabado sea SKlearn, con el nada te faltará"
   ]
  },
  {
   "cell_type": "markdown",
   "metadata": {},
   "source": [
    "#### 4 Conclusiones y tips"
   ]
  },
  {
   "cell_type": "code",
   "execution_count": 23,
   "metadata": {},
   "outputs": [],
   "source": [
    "#Completa esta sección con las cosas más importantes \n",
    "#que aprendiste durante el proceso"
   ]
  },
  {
   "cell_type": "code",
   "execution_count": null,
   "metadata": {},
   "outputs": [],
   "source": []
  }
 ],
 "metadata": {
  "kernelspec": {
   "display_name": "Python 3",
   "language": "python",
   "name": "python3"
  },
  "language_info": {
   "codemirror_mode": {
    "name": "ipython",
    "version": 3
   },
   "file_extension": ".py",
   "mimetype": "text/x-python",
   "name": "python",
   "nbconvert_exporter": "python",
   "pygments_lexer": "ipython3",
   "version": "3.7.3"
  }
 },
 "nbformat": 4,
 "nbformat_minor": 4
}
